{
 "cells": [
  {
   "cell_type": "code",
   "execution_count": 1,
   "metadata": {},
   "outputs": [],
   "source": [
    "\"\"\"\n",
    "This project was developed by Peter Chen, Rocky Duan, Pieter Abbeel for the Berkeley Deep RL Bootcamp, August 2017.\n",
    "Bootcamp website with slides and lecture videos: https://sites.google.com/view/deep-rl-bootcamp/.\n",
    "\n",
    "Code adapted from Stanford CS231N materials: http://cs231n.stanford.edu/\n",
    "\"\"\"\n",
    "\n",
    "\n",
    "# note to properly run this lab, you should execute all code blocks sequentially\n",
    "import chainer\n",
    "import chainer.functions as F\n",
    "import chainer.links as L\n",
    "from chainer import training\n",
    "from chainer.training import extensions\n",
    "\n",
    "from collections import namedtuple, defaultdict, deque\n",
    "\n",
    "import numpy as np\n",
    "\n",
    "%matplotlib inline\n",
    "\n",
    "import matplotlib\n",
    "import matplotlib.pyplot as plt"
   ]
  },
  {
   "cell_type": "markdown",
   "metadata": {},
   "source": [
    "## Introduction to Chainer\n",
    "\n",
    "Chainer can be understood as Numpy plus the ability to record the computation graph of numerical operations to enable Automatic Differentiation. (Chainer actually also offers many other things; for example, a Numpy equivalent library that runs on GPU, but we will ignore them for now)"
   ]
  },
  {
   "cell_type": "markdown",
   "metadata": {},
   "source": [
    "Let's illustrate how Chainer works by a simple 1D regression task.\n",
    "\n",
    "Suppose we have observations from the following model $y = w x + b + \\epsilon$ where $\\epsilon \\sim \\mathcal{N}(0, 0.1)$ and the task is to estimate the linear model parameters $w, b$ from data."
   ]
  },
  {
   "cell_type": "code",
   "execution_count": 2,
   "metadata": {},
   "outputs": [
    {
     "data": {
      "image/png": "[encoded data removed]",
      "text/plain": [
       "<matplotlib.figure.Figure at 0x11934a630>"
      ]
     },
     "metadata": {},
     "output_type": "display_data"
    }
   ],
   "source": [
    "# first generate some observations\n",
    "true_a = 1.3\n",
    "true_b = 0.4\n",
    "data_x = (np.arange(100) / 99.0 - .5).astype(np.float32) # Chainer assumes all the cpu computation is done in float32\n",
    "data_y = (data_x * true_a + true_b + np.random.randn(*data_x.shape) * 0.1).astype(np.float32)\n",
    "_ = plt.scatter(data_x, data_y, c='b')"
   ]
  },
  {
   "cell_type": "markdown",
   "metadata": {},
   "source": [
    "Chainer provides an abstraction called `Link` that describe some computation and keeps track of parameters for it. For instance, a `Linear` link describes a linear map on input and keeps track of `w` and bias `b`."
   ]
  },
  {
   "cell_type": "code",
   "execution_count": 3,
   "metadata": {},
   "outputs": [
    {
     "name": "stdout",
     "output_type": "stream",
     "text": [
      "w: variable W([[-0.04496457]])\n",
      "b: variable b([ 0.])\n",
      "Operations on chainer.Variable: variable([[ 122.95503235]]), type: <class 'chainer.variable.Variable'>\n",
      "numpy arrays: [[-0.04496457]] [[ 122.95503235]]\n"
     ]
    }
   ],
   "source": [
    "model = L.Linear(in_size=1, out_size=1) # input is 1D data and output is also 1D data\n",
    "\n",
    "# Chainer will randomly initialize `w` and `b` for us.\n",
    "# we can take a look at their values\n",
    "print(\"w:\", model.W)\n",
    "print(\"b:\", model.b)\n",
    "\n",
    "# model.W and model.b have type `chainer.Variable`, \n",
    "#   which is a wrapper around Numpy array\n",
    "assert isinstance(model.W, chainer.Variable)\n",
    "\n",
    "# operations that involve `chainer.Variable` will produce\n",
    "#   `chainer.Variable` and this records the computation graph\n",
    "var_result = model.W + 123 # some random computation\n",
    "print(\"Operations on chainer.Variable: %s, type: %s\" % (var_result, type(var_result)))\n",
    "\n",
    "# the underlying numpy array can be accessed by `data` attribute\n",
    "print(\"numpy arrays:\", model.W.data, var_result.data)"
   ]
  },
  {
   "cell_type": "code",
   "execution_count": 4,
   "metadata": {},
   "outputs": [
    {
     "data": {
      "image/png": "[encoded data removed]",
      "text/plain": [
       "<matplotlib.figure.Figure at 0x1193e8d68>"
      ]
     },
     "metadata": {},
     "output_type": "display_data"
    }
   ],
   "source": [
    "# A chainer link is a callable object. calling it performs the\n",
    "#   forward computation. (in this case, it performs Wx + b)\n",
    "model_y = model(data_x[:, None]) # chainer's link usually assumes input is [Batch Size, Input Dimension]\n",
    "# `model_y` is a chainer variable so we use `.data` to access its numpy array for plotting\n",
    "\n",
    "# we can plot the model's current fit in red. it should be terrible because we haven't trained it yet\n",
    "_ = plt.plot(data_x, model_y.data[:,0], c='r')\n",
    "_ = plt.scatter(data_x, data_y, c='b')\n",
    "_ = plt.title(\"Initial model\")"
   ]
  },
  {
   "cell_type": "code",
   "execution_count": 5,
   "metadata": {},
   "outputs": [
    {
     "name": "stdout",
     "output_type": "stream",
     "text": [
      "loss variable(0.3275081217288971)\n",
      "dloss/dW [[-0.22476175]]\n"
     ]
    }
   ],
   "source": [
    "# now let's walk through how to perform forward computation\n",
    "#  and use AD to get gradients\n",
    "\n",
    "# first we clear the gradients that are stored in the model\n",
    "model.cleargrads()\n",
    "# as we have seen we can perform forward computation by calling the link\n",
    "model_y = model(data_x[:, None])\n",
    "\n",
    "# remember that `model_y` is a chainer variable. to operate on chainer variable\n",
    "#    we will use functions from chainer.functions to operate on those objects.\n",
    "loss = F.mean(F.square(model_y - data_y[:, None]))\n",
    "# `loss` is a scalar chainer variable\n",
    "assert isinstance(loss, chainer.Variable)\n",
    "print(\"loss\", loss)\n",
    "# calculating gradients d loss /d params is as simple as\n",
    "loss.backward()\n",
    "\n",
    "# we can inspect the gradient of loss with respect to W\n",
    "print(\"dloss/dW\", model.W.grad)"
   ]
  },
  {
   "cell_type": "markdown",
   "metadata": {},
   "source": [
    "Now that we know how to calculate gradients, we can code up a simple loop to perform gradient descent to train this model:\n",
    "\n",
    "(Hint: if you run into weird problems, maybe the state has been messed up and you can try re-runing all the code blocks from the beginning)"
   ]
  },
  {
   "cell_type": "code",
   "execution_count": 6,
   "metadata": {},
   "outputs": [
    {
     "name": "stdout",
     "output_type": "stream",
     "text": [
      "Itr 0 loss: variable(0.30157068371772766)\n",
      "Itr 25 loss: variable(0.010271136648952961)\n",
      "Itr 50 loss: variable(0.009708966128528118)\n",
      "Itr 75 loss: variable(0.009706376120448112)\n"
     ]
    },
    {
     "data": {
      "image/png": "[encoded data removed]",
      "text/plain": [
       "<matplotlib.figure.Figure at 0x119495668>"
      ]
     },
     "metadata": {},
     "output_type": "display_data"
    },
    {
     "data": {
      "image/png": "[encoded data removed]",
      "text/plain": [
       "<matplotlib.figure.Figure at 0x119764cf8>"
      ]
     },
     "metadata": {},
     "output_type": "display_data"
    }
   ],
   "source": [
    "# now we can perform gradient descent to improve this model\n",
    "model = L.Linear(in_size=1, out_size=1)\n",
    "losses = []\n",
    "learning_rate = .6\n",
    "\n",
    "for i in range(100):\n",
    "    model.cleargrads()\n",
    "    loss = F.mean(F.square(model(data_x[:, None]) - data_y[:, None]))\n",
    "    losses.append(float(loss.data))\n",
    "    ## *** YOUR CODE HERE TO PERFORM GRADIENT DESCENT ***\n",
    "    ## Hint: you could access gradients with model.W.grad, model.b.grad\n",
    "    ## Hint2: you could write data into a parameter with model.W.data[:] = some_numpy_array\n",
    "    ## Hint3: if your model doesn't learn, remember to try different learning rates\n",
    "    \n",
    "    loss.backward()\n",
    "    model.W.data[:] -= learning_rate * model.W.grad\n",
    "    model.b.data[:] -= learning_rate * model.b.grad\n",
    "    \n",
    "    if i % 25 == 0:\n",
    "        print(\"Itr\", i, \"loss:\", loss)\n",
    "plt.plot(np.array(losses))\n",
    "plt.title(\"Learning curve\")\n",
    "plt.figure()\n",
    "plt.plot(data_x, model(data_x[:, None])[:,0].data, c='r')\n",
    "plt.scatter(data_x, data_y, c='b')\n",
    "_ = plt.title(\"Trained model fitness\")\n"
   ]
  },
  {
   "cell_type": "markdown",
   "metadata": {},
   "source": [
    "## Train your first deep model\n",
    "\n",
    "Now we have learned the basics of Chainer. We can use it to train a deep model to classify MNIST digits. We will train a model on the MNIST dataset because the dataset is small.\n",
    "\n",
    "First we load the data and see what the images look like:"
   ]
  },
  {
   "cell_type": "code",
   "execution_count": 7,
   "metadata": {
    "scrolled": false
   },
   "outputs": [
    {
     "name": "stdout",
     "output_type": "stream",
     "text": [
      "len-train=60000  type-train=<class 'chainer.datasets.tuple_dataset.TupleDataset'>\n",
      "len-test=10000  type-test=<class 'chainer.datasets.tuple_dataset.TupleDataset'>\n",
      "train[i][0] is the ith image that's flattened, and has shape: (784,)\n",
      "train[i][1] is the ith image's label, such as: 3\n"
     ]
    },
    {
     "data": {
      "image/png": "[encoded data removed]",
      "text/plain": [
       "<matplotlib.figure.Figure at 0x11940eb70>"
      ]
     },
     "metadata": {},
     "output_type": "display_data"
    },
    {
     "data": {
      "image/png": "[encoded data removed]",
      "text/plain": [
       "<matplotlib.figure.Figure at 0x1194de3c8>"
      ]
     },
     "metadata": {},
     "output_type": "display_data"
    }
   ],
   "source": [
    "train, test = chainer.datasets.get_mnist()\n",
    "print(\"len-train={}  type-train={}\".format(len(train), type(train)))\n",
    "print(\"len-test={}  type-test={}\".format(len(test), type(test)))\n",
    "# use train[data_point_index] to access data\n",
    "print(\"train[i][0] is the ith image that's flattened, and has shape:\", train[12][0].shape)\n",
    "print(\"train[i][1] is the ith image's label, such as:\", train[12][1])\n",
    "# here we visualize two of them\n",
    "plt.imshow(train[12][0].reshape([28, 28,]))\n",
    "plt.title(\"Label: %s\" % train[12][1])\n",
    "plt.figure()\n",
    "plt.imshow(train[42][0].reshape([28, 28,]))\n",
    "_ = plt.title(\"Label: %s\" % train[42][1])"
   ]
  },
  {
   "cell_type": "markdown",
   "metadata": {},
   "source": [
    "Next we will provide some boilerplate code and train a linear classifier as an example:"
   ]
  },
  {
   "cell_type": "code",
   "execution_count": 8,
   "metadata": {},
   "outputs": [
    {
     "name": "stdout",
     "output_type": "stream",
     "text": [
      "ep: 0; itr: 0; loss: 2.40678262711; accuracy: 0.0\n",
      "ep: 0; itr: 300; loss: 0.569433676004; accuracy: 0.8725\n",
      "ep: 0; itr: 600; loss: 0.476313342452; accuracy: 0.8775\n",
      "ep: 0; itr: 900; loss: 0.388053823113; accuracy: 0.895\n",
      "ep: 0; itr: 1200; loss: 0.354697887599; accuracy: 0.9025\n",
      "ep: 0; itr: 1500; loss: 0.335270907283; accuracy: 0.9075\n",
      "ep: 0; itr: 1800; loss: 0.423562815487; accuracy: 0.8825\n",
      "ep: 0; itr: 2100; loss: 0.261588849127; accuracy: 0.93\n",
      "ep: 0; itr: 2400; loss: 0.353349348307; accuracy: 0.8975\n",
      "ep: 0; itr: 2700; loss: 0.300362788439; accuracy: 0.9025\n",
      "ep: 0; itr: 3000; loss: 0.276302228868; accuracy: 0.935\n",
      "ep: 0; itr: 3300; loss: 0.293873334825; accuracy: 0.91\n",
      "ep: 0; itr: 3600; loss: 0.273738875985; accuracy: 0.93\n",
      "ep: 1; itr: 0; loss: 0.211638440192; accuracy: 0.9325\n",
      "ep: 1; itr: 300; loss: 0.34065794602; accuracy: 0.9025\n",
      "ep: 1; itr: 600; loss: 0.243211871684; accuracy: 0.93\n",
      "ep: 1; itr: 900; loss: 0.443855938315; accuracy: 0.895\n",
      "ep: 1; itr: 1200; loss: 0.276076661348; accuracy: 0.9175\n",
      "ep: 1; itr: 1500; loss: 0.309021145403; accuracy: 0.9025\n",
      "ep: 1; itr: 1800; loss: 0.240758562684; accuracy: 0.935\n",
      "ep: 1; itr: 2100; loss: 0.243466489017; accuracy: 0.9275\n",
      "ep: 1; itr: 2400; loss: 0.289230279922; accuracy: 0.9275\n",
      "ep: 1; itr: 2700; loss: 0.250639647245; accuracy: 0.94\n",
      "ep: 1; itr: 3000; loss: 0.294424583614; accuracy: 0.905\n",
      "ep: 1; itr: 3300; loss: 0.228305517733; accuracy: 0.9375\n",
      "ep: 1; itr: 3600; loss: 0.298464262187; accuracy: 0.9125\n"
     ]
    }
   ],
   "source": [
    "def run(model, batchsize=16, num_epochs=2):\n",
    "    \n",
    "    optimizer = chainer.optimizers.Adam() # we will use chainer's Adam implementation instead of writing our own gradient based optimization\n",
    "    optimizer.setup(model)\n",
    "    \n",
    "    stats = defaultdict(lambda: deque(maxlen=25))\n",
    "    for epoch in range(num_epochs):\n",
    "        train_iter = chainer.iterators.SerialIterator(train, batchsize, repeat=False, shuffle=True)\n",
    "        test_iter = chainer.iterators.SerialIterator(test, batchsize, repeat=False, shuffle=False)\n",
    "        \n",
    "        for itr, batch in enumerate(train_iter):\n",
    "            xs = np.concatenate([datum[0][None, :] for datum in batch])\n",
    "            ys = np.array([datum[1] for datum in batch])\n",
    "\n",
    "            logits = model(xs)\n",
    "\n",
    "            loss = F.softmax_cross_entropy(logits, ys)\n",
    "            model.cleargrads()\n",
    "            loss.backward()\n",
    "            optimizer.update()\n",
    "            \n",
    "            # calculate stats\n",
    "            stats[\"loss\"].append(float(loss.data))\n",
    "            stats[\"accuracy\"].append(float((logits.data.argmax(1) == ys).sum() / batchsize))\n",
    "            if itr % 300 == 0:\n",
    "                print(\"ep: {}; itr: {}; \".format(epoch, itr) + \"; \".join(\"%s: %s\" % (k, np.mean(vs)) for k, vs in stats.items()))\n",
    "\n",
    "# try a simple linear model\n",
    "run(L.Linear(None, 10))"
   ]
  },
  {
   "cell_type": "markdown",
   "metadata": {},
   "source": [
    "Next we will try to improve performance by training an MLP instead. A partial implementation is provided for you to fill in:"
   ]
  },
  {
   "cell_type": "code",
   "execution_count": 9,
   "metadata": {},
   "outputs": [
    {
     "name": "stdout",
     "output_type": "stream",
     "text": [
      "ep: 0; itr: 0; loss: 2.32113289833; accuracy: 0.0625\n",
      "ep: 0; itr: 300; loss: 0.376372954249; accuracy: 0.8725\n",
      "ep: 0; itr: 600; loss: 0.298839640617; accuracy: 0.905\n",
      "ep: 0; itr: 900; loss: 0.29812705636; accuracy: 0.925\n",
      "ep: 0; itr: 1200; loss: 0.188545182347; accuracy: 0.925\n",
      "ep: 0; itr: 1500; loss: 0.198846592307; accuracy: 0.9475\n",
      "ep: 0; itr: 1800; loss: 0.231510849595; accuracy: 0.93\n",
      "ep: 0; itr: 2100; loss: 0.136716237068; accuracy: 0.95\n",
      "ep: 0; itr: 2400; loss: 0.132185168862; accuracy: 0.9525\n",
      "ep: 0; itr: 2700; loss: 0.105401139855; accuracy: 0.975\n",
      "ep: 0; itr: 3000; loss: 0.191492304802; accuracy: 0.9375\n",
      "ep: 0; itr: 3300; loss: 0.195574881434; accuracy: 0.9325\n",
      "ep: 0; itr: 3600; loss: 0.140146896243; accuracy: 0.9675\n",
      "ep: 1; itr: 0; loss: 0.111413996816; accuracy: 0.9725\n",
      "ep: 1; itr: 300; loss: 0.0976139241457; accuracy: 0.9725\n",
      "ep: 1; itr: 600; loss: 0.120990692973; accuracy: 0.955\n",
      "ep: 1; itr: 900; loss: 0.161520197988; accuracy: 0.96\n",
      "ep: 1; itr: 1200; loss: 0.0887267488241; accuracy: 0.9675\n",
      "ep: 1; itr: 1500; loss: 0.112710177302; accuracy: 0.965\n",
      "ep: 1; itr: 1800; loss: 0.110396391749; accuracy: 0.9725\n",
      "ep: 1; itr: 2100; loss: 0.0699108308554; accuracy: 0.9925\n",
      "ep: 1; itr: 2400; loss: 0.10186132431; accuracy: 0.965\n",
      "ep: 1; itr: 2700; loss: 0.120734586716; accuracy: 0.955\n",
      "ep: 1; itr: 3000; loss: 0.109952142239; accuracy: 0.9675\n",
      "ep: 1; itr: 3300; loss: 0.0897436237335; accuracy: 0.9775\n",
      "ep: 1; itr: 3600; loss: 0.104302566051; accuracy: 0.975\n"
     ]
    }
   ],
   "source": [
    "class MLP(chainer.Chain):\n",
    "\n",
    "    def __init__(self, n_units, n_out):\n",
    "        super(MLP, self).__init__()\n",
    "        with self.init_scope():\n",
    "            # the size of the inputs to each layer will be inferred\n",
    "            self.l1 = L.Linear(None, n_units)  # n_in -> n_units\n",
    "            self.l2 = L.Linear(None, n_units)  # n_units -> n_units\n",
    "            self.l3 = L.Linear(None, n_out)  # n_units -> n_out\n",
    "\n",
    "    def __call__(self, x):\n",
    "        # *** YOUR CODE HERE TO BUILD AN MLP W/ self.l1, self.l2, self.l3 ***\n",
    "        # \n",
    "        # Hint: you should make use of non-linearities / activation functions\n",
    "        #     https://docs.chainer.org/en/stable/reference/functions.html#activation-functions\n",
    "        \n",
    "        logits_1 = self.l1(x)\n",
    "        n1 = F.rrelu(logits_1)\n",
    "        \n",
    "        logits_2 = self.l2(n1)\n",
    "        n2 = F.rrelu(logits_2)\n",
    "        \n",
    "        logits_3 = self.l3(n2)\n",
    "        \n",
    "        return logits_3\n",
    "        \n",
    "run(MLP(200, 10))"
   ]
  },
  {
   "cell_type": "markdown",
   "metadata": {},
   "source": [
    "Next you should try to implement logging test loss and see if the model is overfitting."
   ]
  },
  {
   "cell_type": "code",
   "execution_count": 10,
   "metadata": {},
   "outputs": [
    {
     "name": "stdout",
     "output_type": "stream",
     "text": [
      "ep: 0; itr: 0; loss: 2.33953475952; accuracy: 0.0; test_accuracy: 0.1324; test_loss: 2.30768\n",
      "ep: 0; itr: 300; loss: 0.414294537306; accuracy: 0.8725; test_accuracy: 0.9044; test_loss: 0.34005\n",
      "ep: 0; itr: 600; loss: 0.345464431643; accuracy: 0.91; test_accuracy: 0.9208; test_loss: 0.273618\n",
      "ep: 0; itr: 900; loss: 0.385762937665; accuracy: 0.9025; test_accuracy: 0.9232; test_loss: 0.252396\n",
      "ep: 0; itr: 1200; loss: 0.213527238369; accuracy: 0.9325; test_accuracy: 0.9335; test_loss: 0.21802\n",
      "ep: 0; itr: 1500; loss: 0.323114873171; accuracy: 0.9125; test_accuracy: 0.9405; test_loss: 0.195472\n",
      "ep: 0; itr: 1800; loss: 0.173973903656; accuracy: 0.935; test_accuracy: 0.9432; test_loss: 0.191207\n",
      "ep: 0; itr: 2100; loss: 0.110739498138; accuracy: 0.96; test_accuracy: 0.9501; test_loss: 0.159279\n",
      "ep: 0; itr: 2400; loss: 0.222223940492; accuracy: 0.945; test_accuracy: 0.9542; test_loss: 0.148561\n",
      "ep: 0; itr: 2700; loss: 0.133428604007; accuracy: 0.965; test_accuracy: 0.9586; test_loss: 0.135349\n",
      "ep: 0; itr: 3000; loss: 0.138892352581; accuracy: 0.9475; test_accuracy: 0.958; test_loss: 0.137842\n",
      "ep: 0; itr: 3300; loss: 0.242268966734; accuracy: 0.925; test_accuracy: 0.9487; test_loss: 0.162411\n",
      "ep: 0; itr: 3600; loss: 0.182017239928; accuracy: 0.95; test_accuracy: 0.9559; test_loss: 0.141835\n",
      "ep: 1; itr: 0; loss: 0.158643447757; accuracy: 0.9425; test_accuracy: 0.952; test_loss: 0.150315\n",
      "ep: 1; itr: 300; loss: 0.125520294905; accuracy: 0.9575; test_accuracy: 0.9579; test_loss: 0.136977\n",
      "ep: 1; itr: 600; loss: 0.140020956993; accuracy: 0.9625; test_accuracy: 0.9616; test_loss: 0.126519\n",
      "ep: 1; itr: 900; loss: 0.0948593872786; accuracy: 0.9725; test_accuracy: 0.963; test_loss: 0.120382\n",
      "ep: 1; itr: 1200; loss: 0.145634514689; accuracy: 0.9575; test_accuracy: 0.9608; test_loss: 0.12818\n",
      "ep: 1; itr: 1500; loss: 0.0747372943163; accuracy: 0.9825; test_accuracy: 0.965; test_loss: 0.106289\n",
      "ep: 1; itr: 1800; loss: 0.111282843947; accuracy: 0.96; test_accuracy: 0.9643; test_loss: 0.112544\n",
      "ep: 1; itr: 2100; loss: 0.110419975221; accuracy: 0.97; test_accuracy: 0.9634; test_loss: 0.115832\n",
      "ep: 1; itr: 2400; loss: 0.111642738581; accuracy: 0.9625; test_accuracy: 0.9565; test_loss: 0.133498\n",
      "ep: 1; itr: 2700; loss: 0.103520348072; accuracy: 0.965; test_accuracy: 0.9669; test_loss: 0.109184\n",
      "ep: 1; itr: 3000; loss: 0.0917126917839; accuracy: 0.9775; test_accuracy: 0.9676; test_loss: 0.110714\n",
      "ep: 1; itr: 3300; loss: 0.138629157543; accuracy: 0.9575; test_accuracy: 0.9687; test_loss: 0.0990407\n",
      "ep: 1; itr: 3600; loss: 0.123269334435; accuracy: 0.9575; test_accuracy: 0.9693; test_loss: 0.0984152\n"
     ]
    }
   ],
   "source": [
    "def better_run(model, batchsize=16, num_epochs=2, optimizer=chainer.optimizers.Adam(eta=0.60)):\n",
    "\n",
    "    optimizer.setup(model)\n",
    "    \n",
    "    stats = defaultdict(lambda: deque(maxlen=25))\n",
    "    for epoch in range(num_epochs):\n",
    "        train_iter = chainer.iterators.SerialIterator(train, batchsize, repeat=False, shuffle=True)\n",
    "        for itr, batch in enumerate(train_iter):\n",
    "            xs = np.concatenate([datum[0][None, :] for datum in batch])\n",
    "            ys = np.array([datum[1] for datum in batch])\n",
    "\n",
    "            logits = model(xs)\n",
    "\n",
    "            loss = F.softmax_cross_entropy(logits, ys)\n",
    "            model.cleargrads()\n",
    "            loss.backward()\n",
    "            optimizer.update()\n",
    "            \n",
    "            # calculate stats\n",
    "            stats[\"loss\"].append(float(loss.data))\n",
    "            stats[\"accuracy\"].append(float((logits.data.argmax(1) == ys).sum() / batchsize))\n",
    "            if itr % 300 == 0:\n",
    "                test_iter = chainer.iterators.SerialIterator(test, batchsize, repeat=False, shuffle=False)\n",
    "                # *** YOUR CODE implement logging of stats on test set ***\n",
    "                \n",
    "                xt = np.concatenate([datum[0][None, :] for datum in test])\n",
    "                yt = np.array([datum[1] for datum in test])\n",
    "                logits_t = model(xt)\n",
    "                stats[\"test_accuracy\"] = F.accuracy(logits_t, yt).data\n",
    "                stats[\"test_loss\"] = F.softmax_cross_entropy(logits_t, yt).data\n",
    "                \n",
    "                print(\"ep: {}; itr: {}; \".format(epoch, itr) + \"; \".join(\"%s: %s\" % (k, np.mean(vs)) for k, vs in stats.items()))\n",
    "\n",
    "optimizer = chainer.optimizers.Adam(eta=0.60) # we will use chainer's Adam implementation instead of writing our own gradient based optimization\n",
    "better_run(MLP(200, 10), optimizer=optimizer)"
   ]
  },
  {
   "cell_type": "markdown",
   "metadata": {},
   "source": [
    "Try different variants!\n",
    "\n",
    "- Does using a ConvNet improve performance (reduce overfitting?)\n",
    "- Try changing the learning rate and observe the effect\n",
    "- Does the model train if you give it correlated gradients? (consecutively sample many batches of \"1\", then many batches of \"2\", ... etc"
   ]
  },
  {
   "cell_type": "code",
   "execution_count": 11,
   "metadata": {},
   "outputs": [
    {
     "name": "stdout",
     "output_type": "stream",
     "text": [
      "ep: 0; itr: 0; loss: 2.43061590195; accuracy: 0.0; test_accuracy: 0.1249; test_loss: 2.52814\n",
      "ep: 0; itr: 300; loss: 0.215568059087; accuracy: 0.93; test_accuracy: 0.9388; test_loss: 0.197971\n",
      "ep: 0; itr: 600; loss: 0.194230608344; accuracy: 0.945; test_accuracy: 0.9602; test_loss: 0.131503\n",
      "ep: 0; itr: 900; loss: 0.151482195854; accuracy: 0.9525; test_accuracy: 0.968; test_loss: 0.102281\n",
      "ep: 0; itr: 1200; loss: 0.0734516203403; accuracy: 0.98; test_accuracy: 0.9721; test_loss: 0.0869171\n",
      "ep: 0; itr: 1500; loss: 0.0957808887959; accuracy: 0.9725; test_accuracy: 0.965; test_loss: 0.105164\n",
      "ep: 0; itr: 1800; loss: 0.0640955525637; accuracy: 0.985; test_accuracy: 0.9779; test_loss: 0.0722716\n",
      "ep: 0; itr: 2100; loss: 0.075143853426; accuracy: 0.9825; test_accuracy: 0.9748; test_loss: 0.0820559\n",
      "ep: 0; itr: 2400; loss: 0.0656267571449; accuracy: 0.98; test_accuracy: 0.9818; test_loss: 0.0541739\n",
      "ep: 0; itr: 2700; loss: 0.0751827687025; accuracy: 0.9725; test_accuracy: 0.9828; test_loss: 0.0495945\n",
      "ep: 0; itr: 3000; loss: 0.0892237991095; accuracy: 0.98; test_accuracy: 0.9806; test_loss: 0.055561\n",
      "ep: 0; itr: 3300; loss: 0.0670930188894; accuracy: 0.9775; test_accuracy: 0.9764; test_loss: 0.0712465\n",
      "ep: 0; itr: 3600; loss: 0.0596260219812; accuracy: 0.98; test_accuracy: 0.978; test_loss: 0.0666986\n",
      "ep: 1; itr: 0; loss: 0.0728989648819; accuracy: 0.9825; test_accuracy: 0.9814; test_loss: 0.0591834\n",
      "ep: 1; itr: 300; loss: 0.047823831141; accuracy: 0.9775; test_accuracy: 0.9826; test_loss: 0.0546699\n",
      "ep: 1; itr: 600; loss: 0.0699789637327; accuracy: 0.9775; test_accuracy: 0.9849; test_loss: 0.0473038\n",
      "ep: 1; itr: 900; loss: 0.0758402210474; accuracy: 0.9775; test_accuracy: 0.982; test_loss: 0.0569834\n",
      "ep: 1; itr: 1200; loss: 0.0281383228302; accuracy: 0.9925; test_accuracy: 0.9844; test_loss: 0.0466969\n",
      "ep: 1; itr: 1500; loss: 0.0759056401253; accuracy: 0.975; test_accuracy: 0.9797; test_loss: 0.0606313\n",
      "ep: 1; itr: 1800; loss: 0.0387547183037; accuracy: 0.9875; test_accuracy: 0.985; test_loss: 0.0508007\n",
      "ep: 1; itr: 2100; loss: 0.0584163695574; accuracy: 0.9825; test_accuracy: 0.9856; test_loss: 0.0432458\n",
      "ep: 1; itr: 2400; loss: 0.0430246335268; accuracy: 0.9825; test_accuracy: 0.9848; test_loss: 0.0478056\n",
      "ep: 1; itr: 2700; loss: 0.0239196109772; accuracy: 0.99; test_accuracy: 0.9861; test_loss: 0.0436211\n",
      "ep: 1; itr: 3000; loss: 0.104127204418; accuracy: 0.9725; test_accuracy: 0.984; test_loss: 0.0466228\n",
      "ep: 1; itr: 3300; loss: 0.0694615417719; accuracy: 0.9825; test_accuracy: 0.9827; test_loss: 0.0525926\n",
      "ep: 1; itr: 3600; loss: 0.0462630391121; accuracy: 0.9875; test_accuracy: 0.9837; test_loss: 0.0476132\n"
     ]
    }
   ],
   "source": [
    "class ConvNN(chainer.Chain):\n",
    "    \n",
    "    # conv - relu - 2x2 max pool - affine - relu - affine - softmax\n",
    "\n",
    "    def __init__(self, n_units, n_out):\n",
    "        super(ConvNN, self).__init__()\n",
    "        with self.init_scope():\n",
    "            # the size of the inputs to each layer will be inferred\n",
    "            self.l1 = L.Convolution2D(\n",
    "                in_channels=1, out_channels=30, ksize=10, stride=2)\n",
    "            self.l2 = L.Linear(None, 800)  # n_units -> n_units\n",
    "            self.l3 = L.Linear(None, 10)  # n_units -> n_out\n",
    "\n",
    "    def __call__(self, x):\n",
    "        # *** YOUR CODE HERE TO BUILD AN MLP W/ self.l1, self.l2, self.l3 ***\n",
    "        # \n",
    "        # Hint: you should make use of non-linearities / activation functions\n",
    "        #     https://docs.chainer.org/en/stable/reference/functions.html#activation-functions\n",
    "        \n",
    "        #print(\"x.shape={}\".format(x.shape))\n",
    "        x=x.reshape(x.shape[0],1,28,28)\n",
    "        logits_1 = self.l1(x)\n",
    "        n1a = F.rrelu(logits_1)\n",
    "        n1b = F.max_pooling_2d(n1a, ksize=2, stride=2)\n",
    "        \n",
    "        logits_2 = self.l2(n1b)\n",
    "        n2 = F.rrelu(logits_2)\n",
    "        \n",
    "        logits_3 = self.l3(n2)\n",
    "        #print(\"logits_3.shape={}\".format(logits_3.shape))\n",
    "        \n",
    "        return logits_3\n",
    "\n",
    "optimizer = chainer.optimizers.Adam(beta1=.9, beta2=.9, eta=0.10, weight_decay_rate=.999)\n",
    "better_run(ConvNN(200, 10))"
   ]
  },
  {
   "cell_type": "code",
   "execution_count": 12,
   "metadata": {},
   "outputs": [
    {
     "name": "stdout",
     "output_type": "stream",
     "text": [
      "ep: 0; itr: 0; loss: 2.28599691391; accuracy: 0.1875; test_accuracy: 0.1592; test_loss: 2.30353\n",
      "ep: 0; itr: 300; loss: 0.311914050579; accuracy: 0.905; test_accuracy: 0.932; test_loss: 0.223771\n",
      "ep: 0; itr: 600; loss: 0.168188151419; accuracy: 0.9425; test_accuracy: 0.9534; test_loss: 0.1549\n",
      "ep: 0; itr: 900; loss: 0.167963538766; accuracy: 0.96; test_accuracy: 0.9546; test_loss: 0.140753\n",
      "ep: 0; itr: 1200; loss: 0.104698985815; accuracy: 0.965; test_accuracy: 0.9659; test_loss: 0.10854\n",
      "ep: 0; itr: 1500; loss: 0.0654561585188; accuracy: 0.9775; test_accuracy: 0.9696; test_loss: 0.100044\n",
      "ep: 0; itr: 1800; loss: 0.0779303359985; accuracy: 0.98; test_accuracy: 0.9693; test_loss: 0.0970106\n",
      "ep: 0; itr: 2100; loss: 0.0721018698812; accuracy: 0.975; test_accuracy: 0.9751; test_loss: 0.0804999\n",
      "ep: 0; itr: 2400; loss: 0.133920491338; accuracy: 0.9575; test_accuracy: 0.9726; test_loss: 0.0873263\n",
      "ep: 0; itr: 2700; loss: 0.0566477233171; accuracy: 0.9775; test_accuracy: 0.9767; test_loss: 0.0734472\n",
      "ep: 0; itr: 3000; loss: 0.0651476958394; accuracy: 0.975; test_accuracy: 0.9766; test_loss: 0.0776876\n",
      "ep: 0; itr: 3300; loss: 0.0626551163197; accuracy: 0.9775; test_accuracy: 0.9731; test_loss: 0.0806955\n",
      "ep: 0; itr: 3600; loss: 0.0435988748074; accuracy: 0.985; test_accuracy: 0.9779; test_loss: 0.0689744\n",
      "ep: 1; itr: 0; loss: 0.0615460732579; accuracy: 0.9825; test_accuracy: 0.9807; test_loss: 0.0649479\n",
      "ep: 1; itr: 300; loss: 0.0266437354684; accuracy: 0.9925; test_accuracy: 0.983; test_loss: 0.0506112\n",
      "ep: 1; itr: 600; loss: 0.0710104337335; accuracy: 0.98; test_accuracy: 0.9823; test_loss: 0.0533586\n",
      "ep: 1; itr: 900; loss: 0.0443812137842; accuracy: 0.985; test_accuracy: 0.9846; test_loss: 0.0480526\n",
      "ep: 1; itr: 1200; loss: 0.0676910364628; accuracy: 0.9825; test_accuracy: 0.9842; test_loss: 0.0508151\n",
      "ep: 1; itr: 1500; loss: 0.0620564863086; accuracy: 0.9875; test_accuracy: 0.9849; test_loss: 0.0457294\n",
      "ep: 1; itr: 1800; loss: 0.0592821010947; accuracy: 0.98; test_accuracy: 0.9811; test_loss: 0.0610989\n",
      "ep: 1; itr: 2100; loss: 0.0433019384742; accuracy: 0.9925; test_accuracy: 0.9822; test_loss: 0.0542483\n",
      "ep: 1; itr: 2400; loss: 0.0631306666136; accuracy: 0.985; test_accuracy: 0.982; test_loss: 0.0539686\n",
      "ep: 1; itr: 2700; loss: 0.0310466384888; accuracy: 0.995; test_accuracy: 0.9855; test_loss: 0.0458241\n",
      "ep: 1; itr: 3000; loss: 0.0968356502056; accuracy: 0.98; test_accuracy: 0.9845; test_loss: 0.0512276\n",
      "ep: 1; itr: 3300; loss: 0.0439883029461; accuracy: 0.985; test_accuracy: 0.9848; test_loss: 0.0480327\n",
      "ep: 1; itr: 3600; loss: 0.072048419714; accuracy: 0.98; test_accuracy: 0.9853; test_loss: 0.0468478\n"
     ]
    }
   ],
   "source": [
    "class LeNet5(chainer.Chain):\n",
    "    def __init__(self):\n",
    "        super(LeNet5, self).__init__()\n",
    "        with self.init_scope():\n",
    "            self.conv1 = L.Convolution2D(\n",
    "                in_channels=1, out_channels=6, ksize=5, stride=1)\n",
    "            self.conv2 = L.Convolution2D(\n",
    "                in_channels=6, out_channels=16, ksize=5, stride=1)\n",
    "            self.conv3 = L.Convolution2D(\n",
    "                in_channels=16, out_channels=120, ksize=4, stride=1)\n",
    "            self.fc4 = L.Linear(None, 484)\n",
    "            self.fc5 = L.Linear(484, 10)\n",
    "\n",
    "    def __call__(self, x):\n",
    "        x=x.reshape(x.shape[0],1,28,28)\n",
    "        h = F.relu(self.conv1(x))\n",
    "        h = F.max_pooling_2d(h, 2, 2)\n",
    "        h = F.relu(self.conv2(h))\n",
    "        h = F.max_pooling_2d(h, 2, 2)\n",
    "        h = F.relu(self.conv3(h))\n",
    "        h = F.relu(self.fc4(h))\n",
    "        if chainer.config.train:\n",
    "            return self.fc5(h)\n",
    "        return F.softmax(self.fc5(h))\n",
    "\n",
    "better_run(LeNet5())"
   ]
  },
  {
   "cell_type": "code",
   "execution_count": null,
   "metadata": {
    "collapsed": true
   },
   "outputs": [],
   "source": []
  }
 ],
 "metadata": {
  "kernelspec": {
   "display_name": "Python 3",
   "language": "python",
   "name": "python3"
  },
  "language_info": {
   "codemirror_mode": {
    "name": "ipython",
    "version": 3
   },
   "file_extension": ".py",
   "mimetype": "text/x-python",
   "name": "python",
   "nbconvert_exporter": "python",
   "pygments_lexer": "ipython3",
   "version": "3.6.1"
  }
 },
 "nbformat": 4,
 "nbformat_minor": 1
}
